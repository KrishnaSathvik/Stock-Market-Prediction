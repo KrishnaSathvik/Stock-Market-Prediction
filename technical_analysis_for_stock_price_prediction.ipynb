{
  "nbformat": 4,
  "nbformat_minor": 0,
  "metadata": {
    "colab": {
      "name": "technical_analysis_for_stock_price_prediction.ipynb",
      "provenance": [],
      "collapsed_sections": [
        "paH53o2l0mxu",
        "6pcMPECE8UsG",
        "P_Pq0YrFWiGR"
      ],
      "toc_visible": true
    },
    "kernelspec": {
      "display_name": "Python 3 (ipykernel)",
      "language": "python",
      "name": "python3"
    },
    "language_info": {
      "codemirror_mode": {
        "name": "ipython",
        "version": 3
      },
      "file_extension": ".py",
      "mimetype": "text/x-python",
      "name": "python",
      "nbconvert_exporter": "python",
      "pygments_lexer": "ipython3",
      "version": "3.8.8"
    }
  },
  "cells": [
    {
      "cell_type": "markdown",
      "metadata": {
        "id": "ugEzjcGDWiGB"
      },
      "source": [
        "# Technical Analysis for Stock Price Prediction #\n",
        "Team Members: Anjan Shrestha, Krishna Sathvik Mantripragada, Sai Tarun Gunda, Tharun Digajari\n",
        "\n",
        "Group Number: 14"
      ]
    },
    {
      "cell_type": "markdown",
      "metadata": {
        "id": "hu2FrTURWiGF",
        "tags": []
      },
      "source": [
        "### Import and Packages ###"
      ]
    },
    {
      "cell_type": "code",
      "metadata": {
        "id": "1Pp5y4R9WiGF",
        "colab": {
          "base_uri": "https://localhost:8080/"
        },
        "outputId": "51752115-4a6e-4495-f725-a1d689e3e76e"
      },
      "source": [
        "# For dealing with dataframe\n",
        "import pandas as pd\n",
        "\n",
        "# For dealing with np array\n",
        "import numpy as np\n",
        "\n",
        "# For calling yahoo finance to get stock price \n",
        "import pandas_datareader as pdr\n",
        "import datetime as dt\n",
        "from datetime import timedelta\n",
        "\n",
        "# For plotting\n",
        "import matplotlib.pyplot as plt\n",
        "\n",
        "# For model\n",
        "import math\n",
        "from sklearn.preprocessing import MinMaxScaler\n",
        "from tensorflow.keras.models import Sequential\n",
        "from tensorflow.keras.layers import Dense\n",
        "from tensorflow.keras.layers import LSTM\n",
        "from sklearn.metrics import mean_squared_error\n",
        "from sklearn.linear_model import LinearRegression\n",
        "from sklearn.tree import DecisionTreeRegressor\n",
        "from sklearn.neighbors import KNeighborsRegressor\n",
        "\n",
        "# For upgrading pandas datareader module\n",
        "!pip install --upgrade pandas_datareader"
      ],
      "execution_count": null,
      "outputs": [
        {
          "output_type": "stream",
          "name": "stdout",
          "text": [
            "Requirement already satisfied: pandas_datareader in /usr/local/lib/python3.7/dist-packages (0.10.0)\n",
            "Requirement already satisfied: requests>=2.19.0 in /usr/local/lib/python3.7/dist-packages (from pandas_datareader) (2.23.0)\n",
            "Requirement already satisfied: pandas>=0.23 in /usr/local/lib/python3.7/dist-packages (from pandas_datareader) (1.1.5)\n",
            "Requirement already satisfied: lxml in /usr/local/lib/python3.7/dist-packages (from pandas_datareader) (4.2.6)\n",
            "Requirement already satisfied: numpy>=1.15.4 in /usr/local/lib/python3.7/dist-packages (from pandas>=0.23->pandas_datareader) (1.19.5)\n",
            "Requirement already satisfied: python-dateutil>=2.7.3 in /usr/local/lib/python3.7/dist-packages (from pandas>=0.23->pandas_datareader) (2.8.2)\n",
            "Requirement already satisfied: pytz>=2017.2 in /usr/local/lib/python3.7/dist-packages (from pandas>=0.23->pandas_datareader) (2018.9)\n",
            "Requirement already satisfied: six>=1.5 in /usr/local/lib/python3.7/dist-packages (from python-dateutil>=2.7.3->pandas>=0.23->pandas_datareader) (1.15.0)\n",
            "Requirement already satisfied: chardet<4,>=3.0.2 in /usr/local/lib/python3.7/dist-packages (from requests>=2.19.0->pandas_datareader) (3.0.4)\n",
            "Requirement already satisfied: certifi>=2017.4.17 in /usr/local/lib/python3.7/dist-packages (from requests>=2.19.0->pandas_datareader) (2021.10.8)\n",
            "Requirement already satisfied: idna<3,>=2.5 in /usr/local/lib/python3.7/dist-packages (from requests>=2.19.0->pandas_datareader) (2.10)\n",
            "Requirement already satisfied: urllib3!=1.25.0,!=1.25.1,<1.26,>=1.21.1 in /usr/local/lib/python3.7/dist-packages (from requests>=2.19.0->pandas_datareader) (1.24.3)\n"
          ]
        }
      ]
    },
    {
      "cell_type": "markdown",
      "metadata": {
        "id": "IBmRdGxvvccA"
      },
      "source": [
        "### Model Properties ###"
      ]
    },
    {
      "cell_type": "code",
      "metadata": {
        "id": "skV3nY6pv-kA"
      },
      "source": [
        "# Dataset Properties\n",
        "DATE = 'Date'\n",
        "CLOSE = 'Close'\n",
        "VOLUME = 'Volume'\n",
        "\n",
        "# Stock Properties \n",
        "STOCK_TICKER = 'AAPL' # Stock ticker name to run the model\n",
        "\n",
        "# Target\n",
        "NUMBER_OF_DAYS_TO_PREDICT = 30 # Target Stock Trend\n",
        "\n",
        "# Custom Hyperparameters\n",
        "NUMBER_OF_YEARS_TO_FETCH_PRICE_DATA = [5, 15]\n",
        "NUMBER_OF_DAYS_FOR_PRICE_PREDICTION = [20, 50]\n",
        "\n",
        "# LSTM Hyperparameters\n",
        "NUMBER_OF_EPOCH_LIST = [25, 50]\n",
        "BATCH_SIZE_LIST = [30, 60]\n",
        "\n",
        "# KNN Hyperparameters\n",
        "KNN_NEIGHBORS_LIST = [1, 3, 5, 7, 9]\n",
        "\n",
        "# Decision Tree Hyperparameters\n",
        "MIN_SAMPLES_LIST = [2, 3, 5, 7, 9]"
      ],
      "execution_count": null,
      "outputs": []
    },
    {
      "cell_type": "markdown",
      "metadata": {
        "id": "A1R9zQJgWiGH",
        "tags": []
      },
      "source": [
        "##  1. Extract Raw data and Dataset Creation ##\n",
        "Calling Yahoo Finance API to extract data for last 'n' years from current date and convert it to dataframe"
      ]
    },
    {
      "cell_type": "code",
      "metadata": {
        "id": "FHpyMSK1WiGH"
      },
      "source": [
        "# Function to Create Dataset\n",
        "def extract_raw_data(number_of_years_to_fetch_price_data):\n",
        "    # Getting start and end date for stock data\n",
        "    end_date = dt.date.today()\n",
        "    start_date = end_date - timedelta(days=number_of_years_to_fetch_price_data * 365)  # Getting start date as last 'n' number of years from now\n",
        "\n",
        "    # Calling Yahoo Finance API for last 7 years of stock data \n",
        "    df = pdr.get_data_yahoo(STOCK_TICKER, start = start_date, end = end_date)\n",
        "    \n",
        "    return df"
      ],
      "execution_count": null,
      "outputs": []
    },
    {
      "cell_type": "markdown",
      "metadata": {
        "id": "enQKrnCPy-B-",
        "tags": []
      },
      "source": [
        "## 2. Exploratory Data Analysis"
      ]
    },
    {
      "cell_type": "code",
      "metadata": {
        "colab": {
          "base_uri": "https://localhost:8080/",
          "height": 595
        },
        "id": "uwkCH-rOWiGL",
        "outputId": "91bfb41f-91d0-47eb-a7e9-99267fb3e08a"
      },
      "source": [
        "# Plotting the graph visualizing price change with date with 15 years of data\n",
        "df = extract_raw_data(15)\n",
        "df.plot(y=[CLOSE],figsize=(15,10), ylabel='Stock Price', title='Stock Price Movement for last 15 years')"
      ],
      "execution_count": null,
      "outputs": [
        {
          "output_type": "execute_result",
          "data": {
            "text/plain": [
              "<matplotlib.axes._subplots.AxesSubplot at 0x7f484941b910>"
            ]
          },
          "metadata": {},
          "execution_count": 4
        },
        {
          "output_type": "display_data",
          "data": {
            "image/png": "[encoded data removed]",
            "text/plain": [
              "<Figure size 1080x720 with 1 Axes>"
            ]
          },
          "metadata": {
            "needs_background": "light"
          }
        }
      ]
    },
    {
      "cell_type": "code",
      "metadata": {
        "id": "8WD8qjYWpdqk",
        "colab": {
          "base_uri": "https://localhost:8080/",
          "height": 595
        },
        "outputId": "d2216e26-fae2-4a10-925f-71d12eeecb51"
      },
      "source": [
        "# Plotting moving average of last 5 years\n",
        "plt.figure(figsize=(15,10))\n",
        "df = extract_raw_data(5)\n",
        "df[CLOSE].rolling(window=20).mean().plot(label='20 Day Average')\n",
        "df[CLOSE].plot(label='Closing Price', title='20 Day Moving Average')\n",
        "plt.legend()"
      ],
      "execution_count": null,
      "outputs": [
        {
          "output_type": "execute_result",
          "data": {
            "text/plain": [
              "<matplotlib.legend.Legend at 0x7f48c79fae90>"
            ]
          },
          "metadata": {},
          "execution_count": 5
        },
        {
          "output_type": "display_data",
          "data": {
            "image/png": "[encoded data removed]",
            "text/plain": [
              "<Figure size 1080x720 with 1 Axes>"
            ]
          },
          "metadata": {
            "needs_background": "light"
          }
        }
      ]
    },
    {
      "cell_type": "markdown",
      "metadata": {
        "id": "48IzLP-D2i4d"
      },
      "source": [
        "## 3. Feature Selection ##"
      ]
    },
    {
      "cell_type": "code",
      "metadata": {
        "id": "rFq26cgE3PVh"
      },
      "source": [
        "# Function to extract Stock Closing Price as a Feature from Dataframe\n",
        "def select_features(df):\n",
        "    return df.reset_index()[CLOSE]"
      ],
      "execution_count": null,
      "outputs": []
    },
    {
      "cell_type": "markdown",
      "metadata": {
        "id": "_SWL5fhk2zWo"
      },
      "source": [
        "## 4. Split Data into Train and Test ##"
      ]
    },
    {
      "cell_type": "markdown",
      "metadata": {
        "id": "paH53o2l0mxu"
      },
      "source": [
        "#### I. Split Data for LSTM Model ####"
      ]
    },
    {
      "cell_type": "code",
      "metadata": {
        "id": "4-WgaVX7pdqm"
      },
      "source": [
        "def split_data_into_train_test_lstm(model_df):\n",
        "    train_index = 0.7 * model_df.shape[0]\n",
        "    train_data = model_df[:int(train_index)]\n",
        "    test_data = model_df[int(train_index):]\n",
        "    return train_data, test_data "
      ],
      "execution_count": null,
      "outputs": []
    },
    {
      "cell_type": "code",
      "metadata": {
        "tags": [],
        "id": "u0aFWpuKpdqm"
      },
      "source": [
        "# Function to create dataset into feature and target\n",
        "def create_dataset_lstm(dataset, time_step=1):\n",
        "    dataX, dataY = [], []\n",
        "    for i in range(len(dataset) - time_step-1):\n",
        "        a = dataset[i:(i+time_step), 0]\n",
        "        dataX.append(a)\n",
        "        dataY.append(dataset[i+time_step, 0])\n",
        "    return np.array(dataX), np.array(dataY)"
      ],
      "execution_count": null,
      "outputs": []
    },
    {
      "cell_type": "markdown",
      "metadata": {
        "id": "6pcMPECE8UsG"
      },
      "source": [
        "#### II. Split Data for Other Model ####\n"
      ]
    },
    {
      "cell_type": "code",
      "metadata": {
        "id": "z8KC_3-Bpdqm"
      },
      "source": [
        "def split_data_into_train_test(model_df):\n",
        "    train_index = 0.7 * model_df.shape[0]\n",
        "    train_data = list(model_df[:int(train_index)])\n",
        "    test_data = list(model_df[int(train_index):])\n",
        "    return train_data, test_data"
      ],
      "execution_count": null,
      "outputs": []
    },
    {
      "cell_type": "code",
      "metadata": {
        "id": "l74ZsNSwpdqn"
      },
      "source": [
        "# For other model\n",
        "def create_dataset(dataset, time_step=1):\n",
        "    dataX, dataY = [], []\n",
        "    for i in range(len(dataset) - time_step-1):\n",
        "        a = dataset[i:(i+time_step)]\n",
        "        dataX.append(a)\n",
        "        dataY.append(dataset[i+time_step])\n",
        "    return np.array(dataX), np.array(dataY)"
      ],
      "execution_count": null,
      "outputs": []
    },
    {
      "cell_type": "markdown",
      "metadata": {
        "id": "Tp7Z96nS0YiB"
      },
      "source": [
        "## 5. Create, Train, Evaluate and Tune Model ##"
      ]
    },
    {
      "cell_type": "code",
      "metadata": {
        "id": "pP6gfTwvpdqn"
      },
      "source": [
        "# Function to tune the model \n",
        "def create_tune_model(model_name, X_train, y_train, X_test, y_test, number_of_days=20, scaler=None):\n",
        "    if model_name == 'KNN':\n",
        "        return create_tune_knn(X_train, y_train, X_test, y_test)\n",
        "    elif model_name == 'DT':\n",
        "        return create_tune_dt(X_train, y_train, X_test, y_test)\n",
        "    elif model_name == 'LR':\n",
        "        return create_tune_lr(X_train, y_train, X_test, y_test)\n",
        "    elif model_name == 'LSTM':\n",
        "        return create_tune_lstm(X_train, y_train, X_test, y_test, number_of_days, scaler)"
      ],
      "execution_count": null,
      "outputs": []
    },
    {
      "cell_type": "markdown",
      "metadata": {
        "id": "Co3G5Syqpdqn"
      },
      "source": [
        "### I. LSTM Model ###"
      ]
    },
    {
      "cell_type": "code",
      "metadata": {
        "id": "sf9kPFSDpdqn"
      },
      "source": [
        "# Function to tune lstm based on specific hyperparameter\n",
        "def create_tune_lstm(X_train, y_train, X_test, y_test, number_of_days, scaler):\n",
        "    tuned_test_set_rmse = None\n",
        "    tuned_hyperparameters = None\n",
        "    tuned_model = None\n",
        "\n",
        "    for no_of_epoch in NUMBER_OF_EPOCH_LIST:\n",
        "        for batch_size in BATCH_SIZE_LIST:\n",
        "            model = Sequential()\n",
        "            model.add(LSTM(50, return_sequences=True, input_shape=(number_of_days,1)))\n",
        "            model.add(LSTM(50, return_sequences=True))\n",
        "            model.add(LSTM(50))\n",
        "            model.add(Dense(1))\n",
        "            model.compile(loss='mean_squared_error', optimizer='adam', metrics=['accuracy'])\n",
        "\n",
        "            model.fit(X_train, y_train, validation_data=(X_test, y_test), epochs=no_of_epoch, batch_size=batch_size, verbose=0)\n",
        "            \n",
        "            y_pred = model.predict(X_test)\n",
        "            y_pred = scaler.inverse_transform(y_pred)\n",
        "            y_test = scaler.inverse_transform(np.array(y_test).reshape(-1,1))\n",
        "            current_rmse = math.sqrt(mean_squared_error(y_pred, y_test))\n",
        "            current_rmse = math.sqrt(mean_squared_error(model.predict(X_test), y_test))\n",
        "\n",
        "            if tuned_test_set_rmse is None or tuned_test_set_rmse > current_rmse:\n",
        "                tuned_test_set_rmse = current_rmse\n",
        "                tuned_hyperparameters = {'epochs': no_of_epoch, 'batch_size': batch_size}\n",
        "                tuned_model = model\n",
        "                \n",
        "    return tuned_model, tuned_hyperparameters, tuned_test_set_rmse"
      ],
      "execution_count": null,
      "outputs": []
    },
    {
      "cell_type": "markdown",
      "metadata": {
        "id": "W8o3s-6-1prQ"
      },
      "source": [
        "### II. Linear Regression Model ###"
      ]
    },
    {
      "cell_type": "code",
      "metadata": {
        "id": "KjkSxjZ0pdqo"
      },
      "source": [
        "# Function to run Linear Regression - no hyperparameter available in this model\n",
        "def create_tune_lr(X_train, y_train, X_test, y_test):\n",
        "    model = LinearRegression()\n",
        "    model.fit(X_train, y_train)\n",
        "    current_rmse = math.sqrt(mean_squared_error(model.predict(X_test), y_test))\n",
        "    \n",
        "    return model, {}, current_rmse"
      ],
      "execution_count": null,
      "outputs": []
    },
    {
      "cell_type": "markdown",
      "metadata": {
        "id": "Tu1M1oyG2lfo"
      },
      "source": [
        "### III. Decision Tree Regression Model ###"
      ]
    },
    {
      "cell_type": "code",
      "metadata": {
        "id": "0wUUgAsmpdqo"
      },
      "source": [
        "# Function to tune Decision Tree Regression based on specific hyperparameter\n",
        "def create_tune_dt(X_train, y_train, X_test, y_test):\n",
        "    tuned_test_set_rmse = None\n",
        "    tuned_hyperparameters = None\n",
        "    tuned_model = None\n",
        "    \n",
        "    for min_samples_split in MIN_SAMPLES_LIST:\n",
        "        model = DecisionTreeRegressor(min_samples_split=min_samples_split)\n",
        "        model.fit(X_train, y_train)\n",
        "        current_rmse = math.sqrt(mean_squared_error(model.predict(X_test), y_test))\n",
        "        \n",
        "        if tuned_test_set_rmse is None or tuned_test_set_rmse > current_rmse:\n",
        "            tuned_test_set_rmse = current_rmse\n",
        "            tuned_hyperparameters = {'min_samples_split': min_samples_split}\n",
        "            tuned_model = model\n",
        "            \n",
        "    return tuned_model, tuned_hyperparameters, tuned_test_set_rmse"
      ],
      "execution_count": null,
      "outputs": []
    },
    {
      "cell_type": "markdown",
      "metadata": {
        "id": "Otw3Lr_m4yG4"
      },
      "source": [
        "### IV. KNN Regression Model ###"
      ]
    },
    {
      "cell_type": "code",
      "metadata": {
        "id": "g768ZNHTpdqp"
      },
      "source": [
        "# Function to tune KNN Regression based on specific hyperparameter\n",
        "def create_tune_knn(X_train, y_train, X_test, y_test):\n",
        "    tuned_test_set_rmse = None\n",
        "    tuned_hyperparameters = None\n",
        "    tuned_model = None\n",
        "    \n",
        "    for n_neighbors in KNN_NEIGHBORS_LIST:\n",
        "        model = KNeighborsRegressor(n_neighbors=n_neighbors)\n",
        "        model.fit(X_train, y_train)\n",
        "        current_rmse = math.sqrt(mean_squared_error(model.predict(X_test), y_test))\n",
        "        \n",
        "        if tuned_test_set_rmse is None or tuned_test_set_rmse > current_rmse:\n",
        "            tuned_test_set_rmse = current_rmse\n",
        "            tuned_hyperparameters = {'n_neighbors': n_neighbors}\n",
        "            tuned_model = model\n",
        "            \n",
        "    return tuned_model, tuned_hyperparameters, tuned_test_set_rmse"
      ],
      "execution_count": null,
      "outputs": []
    },
    {
      "cell_type": "markdown",
      "metadata": {
        "id": "OSo_lL_Fpdqp"
      },
      "source": [
        "## 6. Run Model ##"
      ]
    },
    {
      "cell_type": "code",
      "metadata": {
        "id": "nospFmdYpdqp"
      },
      "source": [
        "# Function to run the model\n",
        "def run_model(model_name):\n",
        "    best_model = None\n",
        "    best_df = None\n",
        "    best_X_train = None\n",
        "    best_X_test = None\n",
        "    best_test_data = None\n",
        "    best_test_set_rmse = None\n",
        "    best_hyperparameters = None\n",
        "    best_no_of_years = None\n",
        "    best_no_of_days = None\n",
        "\n",
        "    # Looping through number of years of data to find accurate data selection\n",
        "    for no_of_years in NUMBER_OF_YEARS_TO_FETCH_PRICE_DATA:\n",
        "        \n",
        "        # Extract Raw Dataset\n",
        "        df = extract_raw_data(no_of_years)\n",
        "        \n",
        "        # Feature Selection - selecting stock closing price\n",
        "        model_df = select_features(df)\n",
        "        \n",
        "        # Spliting data into train and test\n",
        "        if model_name == 'LSTM':\n",
        "            # Tranforming value to 0-1 since lstm are sensitive to the scale of the data\n",
        "            scaler = MinMaxScaler(feature_range=(0,1))\n",
        "            model_df_lstm = scaler.fit_transform(np.array(model_df).reshape(-1,1))\n",
        "            \n",
        "            train_data, test_data = split_data_into_train_test_lstm(model_df_lstm)\n",
        "        else:\n",
        "            train_data, test_data = split_data_into_train_test(model_df)\n",
        "\n",
        "        # Looping through number of days for price prediction to find best time-steps\n",
        "        for no_of_days in NUMBER_OF_DAYS_FOR_PRICE_PREDICTION:\n",
        "            \n",
        "            # Creating dataset out of it using time-steps\n",
        "            if model_name == 'LSTM':\n",
        "                X_train, y_train = create_dataset_lstm(train_data, no_of_days)\n",
        "                X_test, y_test = create_dataset_lstm(test_data, no_of_days)\n",
        "                \n",
        "                # reshape input to be [samples, time steps, features] which is required for LSTM\n",
        "                X_train = X_train.reshape(X_train.shape[0], X_train.shape[1], 1)\n",
        "                X_test = X_test.reshape(X_test.shape[0], X_test.shape[1], 1)\n",
        "                \n",
        "                # Traning, Evaluating and performing Hyper Parameter Tuning for the LSTM Model\n",
        "                tuned_model, tuned_hyperparameters, tuned_test_set_rmse = create_tune_model(model_name, X_train, y_train, X_test, y_test, no_of_days, scaler)\n",
        "            else:\n",
        "                X_train, y_train = create_dataset(train_data, no_of_days)\n",
        "                X_test, y_test= create_dataset(test_data, no_of_days)\n",
        "                \n",
        "                # Traning, Evaluating and performing Hyper Parameter Tuning for the Other Model\n",
        "                tuned_model, tuned_hyperparameters, tuned_test_set_rmse = create_tune_model(model_name, X_train, y_train, X_test, y_test)\n",
        "            \n",
        "            # Update hyperparameters and its test accuracy\n",
        "            if best_test_set_rmse is None or best_test_set_rmse > tuned_test_set_rmse:\n",
        "                best_test_set_rmse = tuned_test_set_rmse\n",
        "                best_hyperparameters = tuned_hyperparameters\n",
        "                best_no_of_years = no_of_years\n",
        "                best_no_of_days = no_of_days\n",
        "                best_model = tuned_model\n",
        "                best_df = model_df\n",
        "                best_X_train = X_train\n",
        "                best_X_test = X_test\n",
        "                best_test_data = test_data\n",
        "                \n",
        "    return best_model, best_df, best_X_train, best_X_test, best_test_data, best_hyperparameters, best_test_set_rmse, best_no_of_years, best_no_of_days"
      ],
      "execution_count": null,
      "outputs": []
    },
    {
      "cell_type": "markdown",
      "metadata": {
        "id": "ojlzGa8s0gQ2",
        "tags": []
      },
      "source": [
        "### I. LSTM Model ###"
      ]
    },
    {
      "cell_type": "code",
      "metadata": {
        "id": "1M1fx1oOpdqq"
      },
      "source": [
        "# Defining default values for LSTM for displaying RMSE score later since it takes time to build in case we don't want to run LSTM model\n",
        "best_hyperparameters_lstm = None\n",
        "best_no_of_years_lstm = None\n",
        "best_no_of_days_lstm = None\n",
        "best_test_set_rmse_lstm = None"
      ],
      "execution_count": null,
      "outputs": []
    },
    {
      "cell_type": "code",
      "metadata": {
        "scrolled": true,
        "tags": [],
        "id": "ooUyZgu9pdqq"
      },
      "source": [
        "# Running LSTM Model\n",
        "#best_model_lstm,best_df_lstm, best_X_train_lstm, best_X_test_lstm, best_test_data_lstm, best_hyperparameters_lstm, \\\n",
        "#    best_test_set_rmse_lstm, best_no_of_years_lstm, best_no_of_days_lstm = run_model('LSTM')\n"
      ],
      "execution_count": null,
      "outputs": []
    },
    {
      "cell_type": "markdown",
      "metadata": {
        "tags": [],
        "id": "d6FdH-zCpdqq"
      },
      "source": [
        "### II. Linear Regression Model ###"
      ]
    },
    {
      "cell_type": "code",
      "metadata": {
        "id": "XOq7uxtNpdqq"
      },
      "source": [
        "best_model_lr,best_df_lr, best_X_train_lr, best_X_test_lr, best_test_data_lr, best_hyperparameters_lr, \\\n",
        "    best_test_set_rmse_lr, best_no_of_years_lr, best_no_of_days_lr = run_model('LR')\n"
      ],
      "execution_count": null,
      "outputs": []
    },
    {
      "cell_type": "markdown",
      "metadata": {
        "id": "CRZ7g3ncpdqq"
      },
      "source": [
        "### III. Decision Tree Regression Model"
      ]
    },
    {
      "cell_type": "code",
      "metadata": {
        "id": "cm1eDsGypdqq"
      },
      "source": [
        "best_model_dt,best_df_dt, best_X_train_dt, best_X_test_dt, best_test_dt, best_hyperparameters_dt, \\\n",
        "    best_test_set_rmse_dt, best_no_of_years_dt, best_no_of_days_dt = run_model('DT')\n"
      ],
      "execution_count": null,
      "outputs": []
    },
    {
      "cell_type": "markdown",
      "metadata": {
        "id": "U_guP5hSpdqr"
      },
      "source": [
        "### IV. KNN Regression Model ###"
      ]
    },
    {
      "cell_type": "code",
      "metadata": {
        "id": "jnkxVfhUpdqr"
      },
      "source": [
        "best_model_knn,best_df_knn, best_X_train_knn, best_X_test_knn, best_test_knn, best_hyperparameters_knn, \\\n",
        "    best_test_set_rmse_knn, best_no_of_years_knn, best_no_of_days_knn = run_model('KNN')\n"
      ],
      "execution_count": null,
      "outputs": []
    },
    {
      "cell_type": "markdown",
      "metadata": {
        "id": "ElieCV2P5AwJ"
      },
      "source": [
        "## 6. Comparing and Choosing Best Model ##"
      ]
    },
    {
      "cell_type": "markdown",
      "metadata": {
        "id": "gLA86bBSpdqr"
      },
      "source": [
        "### I. Displaying Model Outputs  ###"
      ]
    },
    {
      "cell_type": "code",
      "metadata": {
        "id": "e7ciikRD5Gyw",
        "colab": {
          "base_uri": "https://localhost:8080/",
          "height": 170
        },
        "outputId": "4c4ff060-5044-41fe-8326-496124d8528c"
      },
      "source": [
        "# Defining default values for model for comparision\n",
        "default_hyperparameter_lstm = {'epochs': 1, 'batch_size': None}\n",
        "default_hyperparameter_lr = {}\n",
        "default_hyperparameter_dt = {'min_samples_split': 2}\n",
        "default_hyperparameter_knn = {'n_neighbors': 5}\n",
        "\n",
        "# Using pandas dataframe to show data in a nice output table\n",
        "df = pd.DataFrame(\n",
        "    {'Model':                               ['LSTM',                         'Linear Regression',           'Decision Tree Regression',        'KNN Regression'],\n",
        "     'Default Hyperparameters':             [default_hyperparameter_lstm,    default_hyperparameter_lr,     default_hyperparameter_dt,         default_hyperparameter_knn],\n",
        "     'Best Hyperparameters':                [best_hyperparameters_lstm,      best_hyperparameters_lr,       best_hyperparameters_dt,           best_hyperparameters_knn],\n",
        "     'Stock Price Data (No. of Years)':     [best_no_of_years_lstm,          best_no_of_years_lr,           best_no_of_years_dt,               best_no_of_years_knn],\n",
        "     'Time Series Step (No. of Days)':      [best_no_of_days_lstm,           best_no_of_days_lr,            best_no_of_days_dt,                best_no_of_days_knn],\n",
        "     'RMSE':                                [best_test_set_rmse_lstm,        best_test_set_rmse_lr,         best_test_set_rmse_dt,             best_test_set_rmse_knn]\n",
        "    })\n",
        "df"
      ],
      "execution_count": null,
      "outputs": [
        {
          "output_type": "execute_result",
          "data": {
            "text/html": [
              "<div>\n",
              "<style scoped>\n",
              "    .dataframe tbody tr th:only-of-type {\n",
              "        vertical-align: middle;\n",
              "    }\n",
              "\n",
              "    .dataframe tbody tr th {\n",
              "        vertical-align: top;\n",
              "    }\n",
              "\n",
              "    .dataframe thead th {\n",
              "        text-align: right;\n",
              "    }\n",
              "</style>\n",
              "<table border=\"1\" class=\"dataframe\">\n",
              "  <thead>\n",
              "    <tr style=\"text-align: right;\">\n",
              "      <th></th>\n",
              "      <th>Model</th>\n",
              "      <th>Default Hyperparameters</th>\n",
              "      <th>Best Hyperparameters</th>\n",
              "      <th>Stock Price Data (No. of Years)</th>\n",
              "      <th>Time Series Step (No. of Days)</th>\n",
              "      <th>RMSE</th>\n",
              "    </tr>\n",
              "  </thead>\n",
              "  <tbody>\n",
              "    <tr>\n",
              "      <th>0</th>\n",
              "      <td>LSTM</td>\n",
              "      <td>{'epochs': 1, 'batch_size': None}</td>\n",
              "      <td>None</td>\n",
              "      <td>NaN</td>\n",
              "      <td>NaN</td>\n",
              "      <td>NaN</td>\n",
              "    </tr>\n",
              "    <tr>\n",
              "      <th>1</th>\n",
              "      <td>Linear Regression</td>\n",
              "      <td>{}</td>\n",
              "      <td>{}</td>\n",
              "      <td>15.0</td>\n",
              "      <td>20.0</td>\n",
              "      <td>1.674639</td>\n",
              "    </tr>\n",
              "    <tr>\n",
              "      <th>2</th>\n",
              "      <td>Decision Tree Regression</td>\n",
              "      <td>{'min_samples_split': 2}</td>\n",
              "      <td>{'min_samples_split': 2}</td>\n",
              "      <td>5.0</td>\n",
              "      <td>20.0</td>\n",
              "      <td>50.670086</td>\n",
              "    </tr>\n",
              "    <tr>\n",
              "      <th>3</th>\n",
              "      <td>KNN Regression</td>\n",
              "      <td>{'n_neighbors': 5}</td>\n",
              "      <td>{'n_neighbors': 5}</td>\n",
              "      <td>5.0</td>\n",
              "      <td>20.0</td>\n",
              "      <td>53.073326</td>\n",
              "    </tr>\n",
              "  </tbody>\n",
              "</table>\n",
              "</div>"
            ],
            "text/plain": [
              "                      Model  ...       RMSE\n",
              "0                      LSTM  ...        NaN\n",
              "1         Linear Regression  ...   1.674639\n",
              "2  Decision Tree Regression  ...  50.670086\n",
              "3            KNN Regression  ...  53.073326\n",
              "\n",
              "[4 rows x 6 columns]"
            ]
          },
          "metadata": {},
          "execution_count": 22
        }
      ]
    },
    {
      "cell_type": "markdown",
      "metadata": {
        "id": "jcdTAjy9pdqr"
      },
      "source": [
        "**Observation:**\n",
        "Looking at the above RMSE score, the best model is found to be **Linear Regression**"
      ]
    },
    {
      "cell_type": "markdown",
      "metadata": {
        "id": "eVP0XckLpdqr"
      },
      "source": [
        "### II. Plotting Train and Test Prediction with Best Model i.e. Linear Regression ###"
      ]
    },
    {
      "cell_type": "code",
      "metadata": {
        "id": "i7rdEBjBpdqs"
      },
      "source": [
        "# Common function to plot graph to evaluate Model\n",
        "def plot_graph(model_df, no_of_days, model, X_train, X_test):\n",
        "    # Making prediction for train and test set for plotting\n",
        "    train_predict = model.predict(X_train)\n",
        "    test_predict = model.predict(X_test)\n",
        "\n",
        "    look_back = no_of_days\n",
        "    train_predict_plot = [ np.nan for i in range(len(model_df))]\n",
        "    train_predict_plot[look_back:len(train_predict) + look_back] = np.array(train_predict)\n",
        "\n",
        "    # Shift test predictions for plotting\n",
        "    \n",
        "    test_predict_plot = [ np.nan for i in range(len(model_df))]\n",
        "    test_predict_plot[len(train_predict) + (look_back*2)+1:len(model_df)-1] = list(test_predict)\n",
        "\n",
        "    # Plot baseline and predictions\n",
        "    plt.plot(model_df)\n",
        "    plt.plot(train_predict_plot)\n",
        "    plt.plot(test_predict_plot)\n",
        "    plt.show()"
      ],
      "execution_count": null,
      "outputs": []
    },
    {
      "cell_type": "code",
      "metadata": {
        "id": "fONAq7FFpdqs",
        "colab": {
          "base_uri": "https://localhost:8080/",
          "height": 265
        },
        "outputId": "f2940143-84a4-4f57-b73f-1448c7f1ed9b"
      },
      "source": [
        "plot_graph(best_df_lr,best_no_of_days_lr, best_model_lr, best_X_train_lr, best_X_test_lr)"
      ],
      "execution_count": null,
      "outputs": [
        {
          "output_type": "display_data",
          "data": {
            "image/png": "[encoded data removed]",
            "text/plain": [
              "<Figure size 432x288 with 1 Axes>"
            ]
          },
          "metadata": {
            "needs_background": "light"
          }
        }
      ]
    },
    {
      "cell_type": "markdown",
      "metadata": {
        "id": "P_Pq0YrFWiGR"
      },
      "source": [
        "## 7. Predict Stock Market Movement Trend for Next 30 Days Using Best Model  and its Hyperparameters (Linear Regression) ##"
      ]
    },
    {
      "cell_type": "code",
      "metadata": {
        "id": "6IBGbu6HpR5o",
        "colab": {
          "base_uri": "https://localhost:8080/"
        },
        "outputId": "ffefbed1-fdce-4c68-bbd1-74831b6605b8"
      },
      "source": [
        "# Plotting Stock Market Trend for next 30 days using Linear Regression\n",
        "lastest_data_index = len(best_test_data_lr) - best_no_of_days_lr\n",
        "x_input = best_test_data_lr[lastest_data_index:]\n",
        "\n",
        "temp_input = list(x_input)\n",
        "temp_input = [temp_input[0]]\n",
        "\n",
        "# demonstrate prediction for next n days\n",
        "lst_output = []\n",
        "last_n_days_data = best_test_data_lr[lastest_data_index : ]\n",
        "next_day = None\n",
        "for day in range(NUMBER_OF_DAYS_TO_PREDICT):\n",
        "    if next_day is not None:\n",
        "        last_n_days_data = last_n_days_data[1:]\n",
        "        last_n_days_data.append(next_day)\n",
        "    next_day = best_model_lr.predict([last_n_days_data])[0]\n",
        "    lst_output.append(next_day)\n",
        "\n",
        "day_new = np.arange(1,best_no_of_days_lr + 2)\n",
        "day_pred = np.arange(best_no_of_days_lr + 1, best_no_of_days_lr + NUMBER_OF_DAYS_TO_PREDICT + 1)\n",
        "\n",
        "lastest_model_df_index = len(best_df_lr) - best_no_of_days_lr\n",
        "\n",
        "plt.figure(figsize = (15,10))\n",
        "\n",
        "last_n_days = list(best_df_lr[lastest_model_df_index:])\n",
        "last_n_days.append(lst_output[0])\n",
        "\n",
        "plt.title('Stock Market Movement Trend for next 30 days')\n",
        "plt.plot(day_new,last_n_days)\n",
        "plt.plot(day_pred,lst_output)"
      ],
      "execution_count": null,
      "outputs": [
        {
          "output_type": "execute_result",
          "data": {
            "text/plain": [
              "[<matplotlib.lines.Line2D at 0x7f484883fed0>]"
            ]
          },
          "metadata": {},
          "execution_count": 25
        },
        {
          "output_type": "display_data",
          "data": {
            "image/png": "[encoded data removed]",
            "text/plain": [
              "<Figure size 1080x720 with 1 Axes>"
            ]
          },
          "metadata": {
            "needs_background": "light"
          }
        }
      ]
    },
    {
      "cell_type": "markdown",
      "metadata": {
        "id": "sT14tX6rUkAI"
      },
      "source": [
        "## 8. Predict Stock Closing Price for Next Day Using Best Model (Linear Regression) ##"
      ]
    },
    {
      "cell_type": "code",
      "metadata": {
        "id": "99-pJ1GWqsMf",
        "colab": {
          "base_uri": "https://localhost:8080/"
        },
        "outputId": "5779692a-f8d6-494d-cfa3-6f80a3d3cca7"
      },
      "source": [
        "# Current Date of Model Run\n",
        "print('Current Date:                 ', dt.date.today())\n",
        "print('Last Stock Closing Price:     ', best_test_data_lr[-1])\n",
        "\n",
        "# Next day price using Linear Regression\n",
        "last_n_days_data = best_test_data_lr[len(best_test_data_lr) - best_no_of_days_lr:]\n",
        "next_day = best_model_lr.predict([last_n_days_data])[0]\n",
        "\n",
        "print('Next Day Stock Closing Price: ', next_day)"
      ],
      "execution_count": null,
      "outputs": [
        {
          "output_type": "stream",
          "name": "stdout",
          "text": [
            "Current Date:                  2021-11-30\n",
            "Last Stock Closing Price:      164.5050048828125\n",
            "Next Day Stock Closing Price:  164.6309704769012\n"
          ]
        }
      ]
    },
    {
      "cell_type": "code",
      "metadata": {
        "id": "uLwWZYZMs_Fl"
      },
      "source": [
        ""
      ],
      "execution_count": null,
      "outputs": []
    }
  ]
}